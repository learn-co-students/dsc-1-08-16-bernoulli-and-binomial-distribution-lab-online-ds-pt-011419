{
 "cells": [
  {
   "cell_type": "markdown",
   "metadata": {},
   "source": [
    "# Bernoulli and Binomial Distribution - Lab"
   ]
  },
  {
   "cell_type": "markdown",
   "metadata": {},
   "source": [
    "## Introduction\n",
    "In this lab, you'll practice your newly gained knowledge on the Bernoulli and Binomial Distribution."
   ]
  },
  {
   "cell_type": "markdown",
   "metadata": {},
   "source": [
    "## Objectives\n",
    "You will be able to:\n",
    "* Apply the formulas for the Binomial and Bernoulli distribution\n",
    "* Apply NumPy to randomly generate Binomial and Bernoulli trials\n",
    "* Use Matplotlib to generate Binomial and Bernoulli trials with various probabilities"
   ]
  },
  {
   "cell_type": "markdown",
   "metadata": {},
   "source": [
    "## Apply the formulas for the Binomial and Bernoulli distribution"
   ]
  },
  {
   "cell_type": "markdown",
   "metadata": {},
   "source": [
    "When playing a game of bowling, what is the probability of throwing exactly 3 strikes in a game with 10 rounds? Assume that the probability of throwing a strike is 25% for each round. Use the formula for the Binomial distribution to get to the answer. You've created this before, so we provide you with the function for factorials again:"
   ]
  },
  {
   "cell_type": "code",
   "execution_count": 1,
   "metadata": {},
   "outputs": [],
   "source": [
    "def factorial(n):\n",
    "    prod = 1\n",
    "    while n >= 1:\n",
    "        prod = prod * n\n",
    "        n = n - 1\n",
    "    return prod"
   ]
  },
  {
   "cell_type": "code",
   "execution_count": 3,
   "metadata": {},
   "outputs": [
    {
     "data": {
      "text/plain": [
       "0.25028228759765625"
      ]
     },
     "execution_count": 3,
     "metadata": {},
     "output_type": "execute_result"
    }
   ],
   "source": [
    "p_3_strikes = factorial(10)/(factorial(7)*factorial(3))*(0.25**3)*((1-0.25)**(10-3))\n",
    "p_3_strikes #answer = 0.2502822"
   ]
  },
  {
   "cell_type": "markdown",
   "metadata": {},
   "source": [
    "Now, create a function for the Binomial distribution with three arguments $n$, $p$ and $k$ just like in the formula."
   ]
  },
  {
   "cell_type": "code",
   "execution_count": 4,
   "metadata": {},
   "outputs": [],
   "source": [
    "def binom_distr(n,p,k):\n",
    "    return factorial(n)/(factorial(n-k)*factorial(k))*(p**k)*((1-p)**(n-k))"
   ]
  },
  {
   "cell_type": "markdown",
   "metadata": {},
   "source": [
    "Validate your previous result applying your new function."
   ]
  },
  {
   "cell_type": "code",
   "execution_count": 5,
   "metadata": {},
   "outputs": [
    {
     "data": {
      "text/plain": [
       "0.25028228759765625"
      ]
     },
     "execution_count": 5,
     "metadata": {},
     "output_type": "execute_result"
    }
   ],
   "source": [
    "binom_distr(10,0.25,3)"
   ]
  },
  {
   "cell_type": "markdown",
   "metadata": {},
   "source": [
    "Now write a for loop along with your function to compute the probability that you have five strikes or more in one game. You'll want to use numpy here!"
   ]
  },
  {
   "cell_type": "code",
   "execution_count": 8,
   "metadata": {},
   "outputs": [],
   "source": [
    "import numpy as np\n",
    "prob = 0\n",
    "for i in np.arange(5,11):\n",
    "     prob += binom_distr(10,0.25,i)"
   ]
  },
  {
   "cell_type": "markdown",
   "metadata": {},
   "source": [
    "## Use a simulation to get the probabilities for all the potential outcomes"
   ]
  },
  {
   "cell_type": "markdown",
   "metadata": {},
   "source": [
    "Repeat the experiment 5000 times."
   ]
  },
  {
   "cell_type": "code",
   "execution_count": 9,
   "metadata": {},
   "outputs": [],
   "source": [
    "# leave the random seed here \n",
    "np.random.seed(123)\n",
    "#\n",
    "#\n",
    "#\n",
    "#\n",
    "iteration = []\n",
    "for loop in range(5000):\n",
    "    iteration.append(np.random.binomial(10,0.25))\n",
    "    np_it = np.array(iteration)"
   ]
  },
  {
   "cell_type": "code",
   "execution_count": 10,
   "metadata": {},
   "outputs": [
    {
     "name": "stdout",
     "output_type": "stream",
     "text": [
      "[0 1 2 3 4 5 6 7 8]\n",
      "[ 310  941 1368 1286  707  297   78   11    2]\n"
     ]
    }
   ],
   "source": [
    "# the results should look like this:\n",
    "# [0 1 2 3 4 5 6 7 8]\n",
    "# [ 310  941 1368 1286  707  297   78   11    2]\n",
    "values, counts = np.unique(np_it, return_counts=True)\n",
    "print(values)\n",
    "print(counts)"
   ]
  },
  {
   "cell_type": "markdown",
   "metadata": {},
   "source": [
    "## Visualize these results"
   ]
  },
  {
   "cell_type": "markdown",
   "metadata": {},
   "source": [
    "Make sure to set an appropriate title and appropriate y-axis label"
   ]
  },
  {
   "cell_type": "code",
   "execution_count": 14,
   "metadata": {},
   "outputs": [
    {
     "data": {
      "image/png": "[encoded data removed]",
      "text/plain": [
       "<Figure size 432x288 with 1 Axes>"
      ]
     },
     "metadata": {
      "needs_background": "light"
     },
     "output_type": "display_data"
    }
   ],
   "source": [
    "import matplotlib.pyplot as plt\n",
    "#\n",
    "#\n",
    "#\n",
    "#\n",
    "plt.bar(values, counts/5000)\n",
    "plt.title(\"Number of Strikes in a Game with 10 Turns\")\n",
    "plt.ylabel(\"Fraction\")\n",
    "plt.xticks(values)\n",
    "plt.show()"
   ]
  },
  {
   "cell_type": "markdown",
   "metadata": {},
   "source": [
    "You can see that, with a 25% strike hit rate, even when simulating 5000 times, an almost perfect and perfect game of 9 and 10 strikes didn't even occur once! If you change your seed, however, you'll see that occasionally perfect games will show up randomly. "
   ]
  },
  {
   "cell_type": "markdown",
   "metadata": {},
   "source": [
    "## Summary\n",
    "\n",
    "Congratulations! In this lab, you practiced your newly gained knowledge on the Bernoulli and Binomial Distribution."
   ]
  }
 ],
 "metadata": {
  "kernelspec": {
   "display_name": "learn-env",
   "language": "python",
   "name": "learn-env"
  },
  "language_info": {
   "codemirror_mode": {
    "name": "ipython",
    "version": 3
   },
   "file_extension": ".py",
   "mimetype": "text/x-python",
   "name": "python",
   "nbconvert_exporter": "python",
   "pygments_lexer": "ipython3",
   "version": "3.6.6"
  }
 },
 "nbformat": 4,
 "nbformat_minor": 2
}
